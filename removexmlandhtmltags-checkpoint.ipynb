{
 "cells": [
  {
   "cell_type": "code",
   "execution_count": 8,
   "metadata": {},
   "outputs": [],
   "source": [
    "import re\n",
    "text = re.sub('<[^<]+>', \"\", open('en-sa.tmx',encoding='utf-8').read())\n",
    "text1=text.split('\\n')[:-1]\n",
    "\n",
    "non_empty_lines = [line for line in text1 if line.strip() != \"\"]\n",
    "\n",
    "sline = \"\"\n",
    "for line in non_empty_lines:\n",
    "      sline += line +'\\n'\n",
    "import io\n",
    "with io.open(\"engl\", 'w', encoding=\"utf-8\") as f:\n",
    "    for item in sline:\n",
    "        f.write(\"{}\".format(item))"
   ]
  },
  {
   "cell_type": "code",
   "execution_count": 12,
   "metadata": {},
   "outputs": [],
   "source": [
    "def readfile(filename):\n",
    "    file=open(filename,encoding='utf-8')\n",
    "    text=file.read().split('\\n')[:-1]\n",
    "    return text\n",
    "\n",
    "req=readfile(\"engl\")"
   ]
  },
  {
   "cell_type": "code",
   "execution_count": 18,
   "metadata": {},
   "outputs": [],
   "source": [
    "list1=[]\n",
    "list2=[]\n",
    "for i in range(len(req)):\n",
    "    if(i%2==0):\n",
    "        list1.append(req[i])\n",
    "    if(i%2!=0):\n",
    "        list2.append(req[i])"
   ]
  },
  {
   "cell_type": "code",
   "execution_count": 19,
   "metadata": {},
   "outputs": [],
   "source": [
    "import io\n",
    "with io.open(\"english\", 'w', encoding=\"utf-8\") as f:\n",
    "    for item in list1:\n",
    "        f.write(\"{}\\n\".format(item))\n",
    "\n",
    "import io\n",
    "with io.open(\"sanskrit\", 'w', encoding=\"utf-8\") as f:\n",
    "    for item in list2:\n",
    "        f.write(\"{}\\n\".format(item))"
   ]
  },
  {
   "cell_type": "code",
   "execution_count": null,
   "metadata": {},
   "outputs": [],
   "source": []
  }
 ],
 "metadata": {
  "kernelspec": {
   "display_name": "Python 3",
   "language": "python",
   "name": "python3"
  },
  "language_info": {
   "codemirror_mode": {
    "name": "ipython",
    "version": 3
   },
   "file_extension": ".py",
   "mimetype": "text/x-python",
   "name": "python",
   "nbconvert_exporter": "python",
   "pygments_lexer": "ipython3",
   "version": "3.7.3"
  }
 },
 "nbformat": 4,
 "nbformat_minor": 2
}
