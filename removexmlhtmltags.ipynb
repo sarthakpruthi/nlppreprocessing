{
 "cells": [
  {
   "cell_type": "code",
   "execution_count": 17,
   "metadata": {},
   "outputs": [],
   "source": [
    "import re\n",
    "text = re.sub('<[^<]+>', \"\", open('xml.txt',encoding='utf-8').read())\n",
    "text1=text.split('\\n')[:-1]"
   ]
  },
  {
   "cell_type": "code",
   "execution_count": 20,
   "metadata": {},
   "outputs": [],
   "source": [
    "non_empty_lines = [line for line in text1 if line.strip() != \"\"]\n",
    "\n",
    "sline = \"\"\n",
    "for line in non_empty_lines:\n",
    "      sline += line +'\\n'\n",
    "import io\n",
    "with io.open(\"engl\", 'w', encoding=\"utf-8\") as f:\n",
    "    for item in sline:\n",
    "        f.write(\"{}\".format(item))"
   ]
  },
  {
   "cell_type": "code",
   "execution_count": null,
   "metadata": {},
   "outputs": [],
   "source": []
  }
 ],
 "metadata": {
  "kernelspec": {
   "display_name": "Python 3",
   "language": "python",
   "name": "python3"
  },
  "language_info": {
   "codemirror_mode": {
    "name": "ipython",
    "version": 3
   },
   "file_extension": ".py",
   "mimetype": "text/x-python",
   "name": "python",
   "nbconvert_exporter": "python",
   "pygments_lexer": "ipython3",
   "version": "3.7.3"
  }
 },
 "nbformat": 4,
 "nbformat_minor": 2
}
